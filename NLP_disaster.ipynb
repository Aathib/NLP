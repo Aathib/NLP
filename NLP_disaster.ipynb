{
  "nbformat": 4,
  "nbformat_minor": 0,
  "metadata": {
    "colab": {
      "name": "NLP_disaster.ipynb",
      "provenance": [],
      "collapsed_sections": [],
      "authorship_tag": "ABX9TyPJKH8EY16sLM/R7IGMHcr3",
      "include_colab_link": true
    },
    "kernelspec": {
      "name": "python3",
      "display_name": "Python 3"
    },
    "accelerator": "GPU"
  },
  "cells": [
    {
      "cell_type": "markdown",
      "metadata": {
        "id": "view-in-github",
        "colab_type": "text"
      },
      "source": [
        "<a href=\"https://colab.research.google.com/github/Aathib/NLP/blob/master/NLP_disaster.ipynb\" target=\"_parent\"><img src=\"https://colab.research.google.com/assets/colab-badge.svg\" alt=\"Open In Colab\"/></a>"
      ]
    },
    {
      "cell_type": "code",
      "metadata": {
        "id": "0COwf-8twmoS",
        "colab_type": "code",
        "outputId": "c921f1e4-4e74-4914-ad18-7dfcd0ba5fdc",
        "colab": {
          "base_uri": "https://localhost:8080/",
          "height": 200
        }
      },
      "source": [
        "!pip install kaggle\n",
        "from google.colab import files\n",
        "#files.upload()"
      ],
      "execution_count": 0,
      "outputs": [
        {
          "output_type": "stream",
          "text": [
            "Requirement already satisfied: kaggle in /usr/local/lib/python3.6/dist-packages (1.5.6)\n",
            "Requirement already satisfied: requests in /usr/local/lib/python3.6/dist-packages (from kaggle) (2.23.0)\n",
            "Requirement already satisfied: tqdm in /usr/local/lib/python3.6/dist-packages (from kaggle) (4.41.1)\n",
            "Requirement already satisfied: urllib3<1.25,>=1.21.1 in /usr/local/lib/python3.6/dist-packages (from kaggle) (1.24.3)\n",
            "Requirement already satisfied: python-dateutil in /usr/local/lib/python3.6/dist-packages (from kaggle) (2.8.1)\n",
            "Requirement already satisfied: python-slugify in /usr/local/lib/python3.6/dist-packages (from kaggle) (4.0.0)\n",
            "Requirement already satisfied: certifi in /usr/local/lib/python3.6/dist-packages (from kaggle) (2020.4.5.1)\n",
            "Requirement already satisfied: six>=1.10 in /usr/local/lib/python3.6/dist-packages (from kaggle) (1.12.0)\n",
            "Requirement already satisfied: chardet<4,>=3.0.2 in /usr/local/lib/python3.6/dist-packages (from requests->kaggle) (3.0.4)\n",
            "Requirement already satisfied: idna<3,>=2.5 in /usr/local/lib/python3.6/dist-packages (from requests->kaggle) (2.9)\n",
            "Requirement already satisfied: text-unidecode>=1.3 in /usr/local/lib/python3.6/dist-packages (from python-slugify->kaggle) (1.3)\n"
          ],
          "name": "stdout"
        }
      ]
    },
    {
      "cell_type": "code",
      "metadata": {
        "id": "yn5oRdmZZzVz",
        "colab_type": "code",
        "outputId": "53d0296d-0584-4e24-c068-9873e20d464c",
        "colab": {
          "base_uri": "https://localhost:8080/",
          "height": 33
        }
      },
      "source": [
        "cd .."
      ],
      "execution_count": 0,
      "outputs": [
        {
          "output_type": "stream",
          "text": [
            "/\n"
          ],
          "name": "stdout"
        }
      ]
    },
    {
      "cell_type": "code",
      "metadata": {
        "id": "U5WaIBTkJybn",
        "colab_type": "code",
        "outputId": "d7030dfd-708b-466e-a21a-1dd210e76574",
        "colab": {
          "base_uri": "https://localhost:8080/",
          "height": 33
        }
      },
      "source": [
        "cd root"
      ],
      "execution_count": 0,
      "outputs": [
        {
          "output_type": "stream",
          "text": [
            "/root\n"
          ],
          "name": "stdout"
        }
      ]
    },
    {
      "cell_type": "code",
      "metadata": {
        "id": "7-XfKI1xJ1N_",
        "colab_type": "code",
        "colab": {}
      },
      "source": [
        "!mkdir .kaggle"
      ],
      "execution_count": 0,
      "outputs": []
    },
    {
      "cell_type": "code",
      "metadata": {
        "id": "t683P8wJKHb2",
        "colab_type": "code",
        "colab": {}
      },
      "source": [
        "ls"
      ],
      "execution_count": 0,
      "outputs": []
    },
    {
      "cell_type": "code",
      "metadata": {
        "id": "WANT-665Jikf",
        "colab_type": "code",
        "colab": {}
      },
      "source": [
        "!echo '{\"username\":\"aathibala\",\"key\":\"ba0fa688dce0ce6541d72e04168d5890\"}' > ~/.kaggle/kaggle.json"
      ],
      "execution_count": 0,
      "outputs": []
    },
    {
      "cell_type": "code",
      "metadata": {
        "id": "XjkMixvzvst8",
        "colab_type": "code",
        "colab": {}
      },
      "source": [
        "!chmod 600 /root/.kaggle/kaggle.json"
      ],
      "execution_count": 0,
      "outputs": []
    },
    {
      "cell_type": "code",
      "metadata": {
        "id": "AUqS0XFBwt9D",
        "colab_type": "code",
        "outputId": "e226f719-3512-47c0-a2f4-8d9d8b1e0fd1",
        "colab": {
          "base_uri": "https://localhost:8080/",
          "height": 183
        }
      },
      "source": [
        "!kaggle competitions download -c nlp-getting-started"
      ],
      "execution_count": 0,
      "outputs": [
        {
          "output_type": "stream",
          "text": [
            "Warning: Looks like you're using an outdated API Version, please consider updating (server 1.5.6 / client 1.5.4)\n",
            "Downloading test.csv to /root\n",
            "\r  0% 0.00/411k [00:00<?, ?B/s]\n",
            "100% 411k/411k [00:00<00:00, 61.0MB/s]\n",
            "Downloading sample_submission.csv to /root\n",
            "  0% 0.00/22.2k [00:00<?, ?B/s]\n",
            "100% 22.2k/22.2k [00:00<00:00, 21.3MB/s]\n",
            "Downloading train.csv to /root\n",
            "  0% 0.00/965k [00:00<?, ?B/s]\n",
            "100% 965k/965k [00:00<00:00, 61.4MB/s]\n"
          ],
          "name": "stdout"
        }
      ]
    },
    {
      "cell_type": "code",
      "metadata": {
        "id": "7ZlwbHkCwt_8",
        "colab_type": "code",
        "colab": {}
      },
      "source": [
        "import pandas as pd\n",
        "import numpy as np "
      ],
      "execution_count": 0,
      "outputs": []
    },
    {
      "cell_type": "code",
      "metadata": {
        "id": "hEyMfY-xwuCl",
        "colab_type": "code",
        "colab": {}
      },
      "source": [
        "data = pd.read_csv(r'train.csv')"
      ],
      "execution_count": 0,
      "outputs": []
    },
    {
      "cell_type": "code",
      "metadata": {
        "id": "JrNe1t9l0rtf",
        "colab_type": "code",
        "outputId": "db2d5164-7771-42bc-bc9e-7b00b9b40c07",
        "colab": {
          "base_uri": "https://localhost:8080/",
          "height": 33
        }
      },
      "source": [
        "data.shape"
      ],
      "execution_count": 0,
      "outputs": [
        {
          "output_type": "execute_result",
          "data": {
            "text/plain": [
              "(7613, 5)"
            ]
          },
          "metadata": {
            "tags": []
          },
          "execution_count": 12
        }
      ]
    },
    {
      "cell_type": "code",
      "metadata": {
        "id": "u-NY82blwuFe",
        "colab_type": "code",
        "outputId": "43c8c5e6-6c48-4b47-a014-e6b7d9816aa8",
        "colab": {
          "base_uri": "https://localhost:8080/",
          "height": 197
        }
      },
      "source": [
        "data.head()"
      ],
      "execution_count": 0,
      "outputs": [
        {
          "output_type": "execute_result",
          "data": {
            "text/html": [
              "<div>\n",
              "<style scoped>\n",
              "    .dataframe tbody tr th:only-of-type {\n",
              "        vertical-align: middle;\n",
              "    }\n",
              "\n",
              "    .dataframe tbody tr th {\n",
              "        vertical-align: top;\n",
              "    }\n",
              "\n",
              "    .dataframe thead th {\n",
              "        text-align: right;\n",
              "    }\n",
              "</style>\n",
              "<table border=\"1\" class=\"dataframe\">\n",
              "  <thead>\n",
              "    <tr style=\"text-align: right;\">\n",
              "      <th></th>\n",
              "      <th>id</th>\n",
              "      <th>keyword</th>\n",
              "      <th>location</th>\n",
              "      <th>text</th>\n",
              "      <th>target</th>\n",
              "    </tr>\n",
              "  </thead>\n",
              "  <tbody>\n",
              "    <tr>\n",
              "      <th>0</th>\n",
              "      <td>1</td>\n",
              "      <td>NaN</td>\n",
              "      <td>NaN</td>\n",
              "      <td>Our Deeds are the Reason of this #earthquake M...</td>\n",
              "      <td>1</td>\n",
              "    </tr>\n",
              "    <tr>\n",
              "      <th>1</th>\n",
              "      <td>4</td>\n",
              "      <td>NaN</td>\n",
              "      <td>NaN</td>\n",
              "      <td>Forest fire near La Ronge Sask. Canada</td>\n",
              "      <td>1</td>\n",
              "    </tr>\n",
              "    <tr>\n",
              "      <th>2</th>\n",
              "      <td>5</td>\n",
              "      <td>NaN</td>\n",
              "      <td>NaN</td>\n",
              "      <td>All residents asked to 'shelter in place' are ...</td>\n",
              "      <td>1</td>\n",
              "    </tr>\n",
              "    <tr>\n",
              "      <th>3</th>\n",
              "      <td>6</td>\n",
              "      <td>NaN</td>\n",
              "      <td>NaN</td>\n",
              "      <td>13,000 people receive #wildfires evacuation or...</td>\n",
              "      <td>1</td>\n",
              "    </tr>\n",
              "    <tr>\n",
              "      <th>4</th>\n",
              "      <td>7</td>\n",
              "      <td>NaN</td>\n",
              "      <td>NaN</td>\n",
              "      <td>Just got sent this photo from Ruby #Alaska as ...</td>\n",
              "      <td>1</td>\n",
              "    </tr>\n",
              "  </tbody>\n",
              "</table>\n",
              "</div>"
            ],
            "text/plain": [
              "   id keyword  ...                                               text target\n",
              "0   1     NaN  ...  Our Deeds are the Reason of this #earthquake M...      1\n",
              "1   4     NaN  ...             Forest fire near La Ronge Sask. Canada      1\n",
              "2   5     NaN  ...  All residents asked to 'shelter in place' are ...      1\n",
              "3   6     NaN  ...  13,000 people receive #wildfires evacuation or...      1\n",
              "4   7     NaN  ...  Just got sent this photo from Ruby #Alaska as ...      1\n",
              "\n",
              "[5 rows x 5 columns]"
            ]
          },
          "metadata": {
            "tags": []
          },
          "execution_count": 13
        }
      ]
    },
    {
      "cell_type": "code",
      "metadata": {
        "id": "9v7_h_R80lFN",
        "colab_type": "code",
        "outputId": "33773a64-14f6-4369-b38e-6f2de22f3559",
        "colab": {
          "base_uri": "https://localhost:8080/",
          "height": 124
        }
      },
      "source": [
        "data.isna().sum()"
      ],
      "execution_count": 0,
      "outputs": [
        {
          "output_type": "execute_result",
          "data": {
            "text/plain": [
              "id             0\n",
              "keyword       61\n",
              "location    2533\n",
              "text           0\n",
              "target         0\n",
              "dtype: int64"
            ]
          },
          "metadata": {
            "tags": []
          },
          "execution_count": 23
        }
      ]
    },
    {
      "cell_type": "code",
      "metadata": {
        "id": "4gDZDJMfwuIl",
        "colab_type": "code",
        "colab": {}
      },
      "source": [
        "data.drop(['id','keyword','location'], axis = 1, inplace = True)"
      ],
      "execution_count": 0,
      "outputs": []
    },
    {
      "cell_type": "code",
      "metadata": {
        "id": "_dnYs78OwuLN",
        "colab_type": "code",
        "colab": {}
      },
      "source": [
        "blanks = []\n",
        "\n",
        "for ind, text, target in data.itertuples():\n",
        "  if type(text)==str:\n",
        "    if text.isspace():\n",
        "      blanks.append(ind)"
      ],
      "execution_count": 0,
      "outputs": []
    },
    {
      "cell_type": "code",
      "metadata": {
        "id": "si4YnA8ywuOc",
        "colab_type": "code",
        "colab": {}
      },
      "source": [
        "# test = pd.read_csv(r'test.csv')\n",
        "# test1 = test.copy()\n",
        "# test1 = test1.text"
      ],
      "execution_count": 0,
      "outputs": []
    },
    {
      "cell_type": "code",
      "metadata": {
        "id": "CCJcbYbdaBj7",
        "colab_type": "code",
        "outputId": "2c336857-2b2b-4076-9b4c-1206b31832c3",
        "colab": {
          "base_uri": "https://localhost:8080/",
          "height": 52
        }
      },
      "source": [
        "import nltk\n",
        "from nltk.corpus import stopwords\n",
        "nltk.download('stopwords')\n",
        "STOPWORDS = set(stopwords.words('english'))\n",
        "\n",
        "def tokens(x):\n",
        "  return x.split(',')"
      ],
      "execution_count": 0,
      "outputs": [
        {
          "output_type": "stream",
          "text": [
            "[nltk_data] Downloading package stopwords to /root/nltk_data...\n",
            "[nltk_data]   Unzipping corpora/stopwords.zip.\n"
          ],
          "name": "stdout"
        }
      ]
    },
    {
      "cell_type": "code",
      "metadata": {
        "id": "cDwe7hzI1yxd",
        "colab_type": "code",
        "colab": {}
      },
      "source": [
        "# from sklearn.model_selection import train_test_split\n",
        "# X = data.text\n",
        "# y = data.target"
      ],
      "execution_count": 0,
      "outputs": []
    },
    {
      "cell_type": "code",
      "metadata": {
        "id": "YNLg5lcg1y0r",
        "colab_type": "code",
        "colab": {}
      },
      "source": [
        "# X_train, X_test, y_train, y_test = train_test_split(X, y, test_size=0.25, random_state=42)"
      ],
      "execution_count": 0,
      "outputs": []
    },
    {
      "cell_type": "code",
      "metadata": {
        "id": "jKlpeHkK1y3N",
        "colab_type": "code",
        "colab": {}
      },
      "source": [
        "# from sklearn.pipeline import Pipeline\n",
        "# from sklearn.feature_extraction.text  import CountVectorizer, TfidfVectorizer\n",
        "# from sklearn.svm import LinearSVC"
      ],
      "execution_count": 0,
      "outputs": []
    },
    {
      "cell_type": "code",
      "metadata": {
        "id": "bBF3ZD8I1y6W",
        "colab_type": "code",
        "colab": {}
      },
      "source": [
        "# text_clf = Pipeline([('tfidf', TfidfVectorizer()),\n",
        "#                     ('clf',LinearSVC())])"
      ],
      "execution_count": 0,
      "outputs": []
    },
    {
      "cell_type": "code",
      "metadata": {
        "id": "FdeE7lhz1y9t",
        "colab_type": "code",
        "colab": {}
      },
      "source": [
        "# text_clf.fit(X_train, y_train)"
      ],
      "execution_count": 0,
      "outputs": []
    },
    {
      "cell_type": "code",
      "metadata": {
        "id": "jOBqAKHD1zAb",
        "colab_type": "code",
        "colab": {}
      },
      "source": [
        "# predictions = text_clf.predict(X_test)"
      ],
      "execution_count": 0,
      "outputs": []
    },
    {
      "cell_type": "code",
      "metadata": {
        "id": "gfiq-BeJwfpz",
        "colab_type": "code",
        "outputId": "a68d0521-c61d-4ccb-9eae-14de8c421489",
        "colab": {
          "base_uri": "https://localhost:8080/",
          "height": 194
        }
      },
      "source": [
        "data.head()"
      ],
      "execution_count": 0,
      "outputs": [
        {
          "output_type": "execute_result",
          "data": {
            "text/html": [
              "<div>\n",
              "<style scoped>\n",
              "    .dataframe tbody tr th:only-of-type {\n",
              "        vertical-align: middle;\n",
              "    }\n",
              "\n",
              "    .dataframe tbody tr th {\n",
              "        vertical-align: top;\n",
              "    }\n",
              "\n",
              "    .dataframe thead th {\n",
              "        text-align: right;\n",
              "    }\n",
              "</style>\n",
              "<table border=\"1\" class=\"dataframe\">\n",
              "  <thead>\n",
              "    <tr style=\"text-align: right;\">\n",
              "      <th></th>\n",
              "      <th>text</th>\n",
              "      <th>target</th>\n",
              "    </tr>\n",
              "  </thead>\n",
              "  <tbody>\n",
              "    <tr>\n",
              "      <th>0</th>\n",
              "      <td>Our Deeds are the Reason of this #earthquake M...</td>\n",
              "      <td>1</td>\n",
              "    </tr>\n",
              "    <tr>\n",
              "      <th>1</th>\n",
              "      <td>Forest fire near La Ronge Sask. Canada</td>\n",
              "      <td>1</td>\n",
              "    </tr>\n",
              "    <tr>\n",
              "      <th>2</th>\n",
              "      <td>All residents asked to 'shelter in place' are ...</td>\n",
              "      <td>1</td>\n",
              "    </tr>\n",
              "    <tr>\n",
              "      <th>3</th>\n",
              "      <td>13,000 people receive #wildfires evacuation or...</td>\n",
              "      <td>1</td>\n",
              "    </tr>\n",
              "    <tr>\n",
              "      <th>4</th>\n",
              "      <td>Just got sent this photo from Ruby #Alaska as ...</td>\n",
              "      <td>1</td>\n",
              "    </tr>\n",
              "  </tbody>\n",
              "</table>\n",
              "</div>"
            ],
            "text/plain": [
              "                                                text  target\n",
              "0  Our Deeds are the Reason of this #earthquake M...       1\n",
              "1             Forest fire near La Ronge Sask. Canada       1\n",
              "2  All residents asked to 'shelter in place' are ...       1\n",
              "3  13,000 people receive #wildfires evacuation or...       1\n",
              "4  Just got sent this photo from Ruby #Alaska as ...       1"
            ]
          },
          "metadata": {
            "tags": []
          },
          "execution_count": 35
        }
      ]
    },
    {
      "cell_type": "code",
      "metadata": {
        "id": "FUilN-R4wf1M",
        "colab_type": "code",
        "colab": {}
      },
      "source": [
        "data.text.to_csv('sent.txt')"
      ],
      "execution_count": 0,
      "outputs": []
    },
    {
      "cell_type": "code",
      "metadata": {
        "id": "3ns8Nm9twf5o",
        "colab_type": "code",
        "colab": {}
      },
      "source": [
        "with open('sent.txt') as f:\n",
        "  dat = f.read()"
      ],
      "execution_count": 0,
      "outputs": []
    },
    {
      "cell_type": "code",
      "metadata": {
        "id": "biDpCQrG5Qt-",
        "colab_type": "code",
        "colab": {}
      },
      "source": [
        "dat = dat[0:10000]"
      ],
      "execution_count": 0,
      "outputs": []
    },
    {
      "cell_type": "code",
      "metadata": {
        "id": "ZYEHPf3YyWF2",
        "colab_type": "code",
        "colab": {}
      },
      "source": [
        "import spacy\n",
        "nlp = spacy.load(\"en_core_web_sm\")\n",
        "nlp.max_length = 250000000\n",
        "doc = nlp(dat,disable = ['ner', 'parser'])\n",
        "\n",
        "texts, article = [], []\n",
        "for w in doc:\n",
        "  if w.text != '\\n' and not w.is_stop and not w.is_punct and not w.like_num:\n",
        "      article.append(w.lemma_)\n",
        "  if w.text == '\\n':\n",
        "      texts.append(article)\n",
        "      article = []"
      ],
      "execution_count": 0,
      "outputs": []
    },
    {
      "cell_type": "code",
      "metadata": {
        "id": "oufJk6Jmwfwr",
        "colab_type": "code",
        "colab": {}
      },
      "source": [
        "from gensim.models import Phrases"
      ],
      "execution_count": 0,
      "outputs": []
    },
    {
      "cell_type": "code",
      "metadata": {
        "id": "u-ma8YpSwftc",
        "colab_type": "code",
        "outputId": "b201ce42-68bf-4d31-d4ef-3614ffa5e5af",
        "colab": {
          "base_uri": "https://localhost:8080/",
          "height": 50
        }
      },
      "source": [
        "bigram = Phrases(texts, min_count=1, delimiter=b' ')\n",
        "trigram  = Phrases(bigram[texts], min_count=1, delimiter=b' ')"
      ],
      "execution_count": 0,
      "outputs": [
        {
          "output_type": "stream",
          "text": [
            "/usr/local/lib/python3.6/dist-packages/gensim/models/phrases.py:598: UserWarning: For a faster implementation, use the gensim.models.phrases.Phraser class\n",
            "  warnings.warn(\"For a faster implementation, use the gensim.models.phrases.Phraser class\")\n"
          ],
          "name": "stderr"
        }
      ]
    },
    {
      "cell_type": "code",
      "metadata": {
        "id": "ev9Y_cIXzT7d",
        "colab_type": "code",
        "outputId": "feb549f2-8f4e-4842-fa7f-8d6e93c0bd9d",
        "colab": {
          "base_uri": "https://localhost:8080/",
          "height": 1000
        }
      },
      "source": [
        "for sent in texts:\n",
        "    bigrams_ = [b for b in bigram[sent] if b.count(' ') == 1]\n",
        "    trigrams_ = [t for t in trigram[bigram[sent]] \n",
        "                                          if t.count(' ')==2]\n",
        "    print(bigrams_)\n",
        "    print(trigrams_)"
      ],
      "execution_count": 0,
      "outputs": [
        {
          "output_type": "stream",
          "text": [
            "[]\n",
            "[]\n",
            "[]\n",
            "[]\n",
            "[]\n",
            "[]\n",
            "['shelter place', 'shelter place']\n",
            "[]\n",
            "[]\n",
            "[]\n",
            "[]\n",
            "[]\n",
            "[]\n",
            "[]\n",
            "[]\n",
            "[]\n",
            "[]\n",
            "[]\n",
            "[]\n",
            "[]\n",
            "[]\n",
            "[]\n",
            "[]\n",
            "[]\n",
            "[]\n",
            "[]\n",
            "[]\n",
            "[]\n",
            "[]\n",
            "[]\n",
            "[]\n",
            "[]\n",
            "[]\n",
            "[]\n",
            "[]\n",
            "[]\n",
            "[]\n",
            "[]\n",
            "[]\n",
            "[]\n",
            "[]\n",
            "[]\n",
            "[]\n",
            "[]\n",
            "[]\n",
            "[]\n",
            "[]\n",
            "[]\n",
            "[]\n",
            "[]\n",
            "[]\n",
            "[]\n",
            "[]\n",
            "[]\n",
            "[]\n",
            "[]\n",
            "[]\n",
            "[]\n",
            "[]\n",
            "[]\n",
            "[]\n",
            "[]\n",
            "[]\n",
            "[]\n",
            "[]\n",
            "[]\n",
            "[]\n",
            "[]\n",
            "['set ablaze']\n",
            "[]\n",
            "['set ablaze']\n",
            "[]\n",
            "[]\n",
            "[]\n",
            "[]\n",
            "[]\n",
            "[]\n",
            "[]\n",
            "['set ablaze', 'CRUZ \\x89ÛÓ', 'Head St', 'Elizabeth Police', ' ']\n",
            "[]\n",
            "[]\n",
            "[]\n",
            "['http://t.co/roi2nsmejj http://t.co/3tj8zjin21', 'http://t.co/yduixefipe http://t.co/lxtjc87kls']\n",
            "[]\n",
            "[]\n",
            "[]\n",
            "[]\n",
            "[]\n",
            "[]\n",
            "[]\n",
            "[]\n",
            "[]\n",
            "[]\n",
            "[]\n",
            "[]\n",
            "[]\n",
            "['West burn', 'thousand wildfire', 'ablaze California']\n",
            "[]\n",
            "[]\n",
            "[]\n",
            "['http://t.co/roi2nsmejj http://t.co/3tj8zjin21', 'http://t.co/yduixefipe http://t.co/lxtjc87kls']\n",
            "[]\n",
            "[]\n",
            "[]\n",
            "['set ablaze']\n",
            "[]\n",
            "['set ablaze']\n",
            "[]\n",
            "[]\n",
            "[]\n",
            "['CRUZ \\x89ÛÓ', 'Head St', 'Elizabeth Police']\n",
            "[]\n",
            "[]\n",
            "[]\n",
            "[]\n",
            "[]\n",
            "['set ablaze']\n",
            "[]\n",
            "[]\n",
            "[]\n",
            "[]\n",
            "[]\n",
            "[]\n",
            "[]\n",
            "['West burn', 'thousand wildfire', 'ablaze California']\n",
            "[]\n",
            "[]\n",
            "[]\n",
            "[]\n",
            "[]\n",
            "['Ablaze amp', ' ']\n",
            "[]\n",
            "[]\n",
            "[]\n",
            "['Ablaze amp', ' ']\n",
            "[]\n",
            "[]\n",
            "[]\n",
            "[]\n",
            "[]\n",
            "[]\n",
            "[]\n",
            "[]\n",
            "[]\n",
            "['lane block']\n",
            "[]\n",
            "[]\n",
            "[]\n",
            "[]\n",
            "[]\n",
            "[]\n",
            "[]\n",
            "[]\n",
            "[]\n",
            "['Mile Marker', 'South Mooresville', 'Vehicle Accident', '1:18 pm']\n",
            "[]\n",
            "['car accident']\n",
            "[]\n",
            "[]\n",
            "[]\n",
            "[]\n",
            "[]\n",
            "['Mile Marker', 'South Mooresville', 'Vehicle Accident', '1:18 pm']\n",
            "[]\n",
            "[]\n",
            "[]\n",
            "[]\n",
            "[]\n",
            "[]\n",
            "[]\n",
            "[]\n",
            "[]\n",
            "['car accident']\n",
            "[]\n",
            "[]\n",
            "[]\n",
            "[]\n",
            "[]\n",
            "[]\n",
            "[]\n",
            "[]\n",
            "[]\n",
            "['CAD FYI', 'ACCIDENT PROPERTY', 'PINER RD', 'HORNDALE DR']\n",
            "[]\n",
            "[]\n",
            "[]\n",
            "['lane block']\n",
            "[]\n",
            "['PINER RD', 'HORNDALE DR']\n",
            "[]\n",
            "[]\n",
            "[]\n",
            "['CAD FYI', 'ACCIDENT PROPERTY']\n",
            "[]\n",
            "[]\n",
            "[]\n",
            "[]\n",
            "[]\n",
            "[]\n",
            "[]\n",
            "['NC NC']\n",
            "[]\n",
            "[]\n",
            "[]\n",
            "['car accident']\n",
            "[]\n",
            "[]\n",
            "[]\n",
            "['car accident']\n",
            "[]\n",
            "[]\n",
            "[]\n",
            "[]\n",
            "[]\n",
            "[]\n",
            "[]\n",
            "[]\n",
            "[]\n",
            "[]\n",
            "[]\n",
            "['IR ICEMOON', 'AFTERSHOCK |', '| @djicemoon', '| dubstep', 'TrapMusic dnb', 'edm dance']\n",
            "[]\n",
            "[]\n",
            "[]\n",
            "['IR ICEMOON', 'AFTERSHOCK |', '| @djicemoon', '| dubstep', 'TrapMusic dnb', 'edm dance']\n",
            "[]\n",
            "[]\n",
            "[]\n",
            "[]\n",
            "[]\n",
            "[]\n",
            "[]\n",
            "[]\n",
            "[]\n",
            "[]\n",
            "[]\n",
            "[]\n",
            "[]\n",
            "[]\n",
            "[]\n",
            "['IR ICEMOON', 'AFTERSHOCK |', '| @djicemoon', '| dubstep', 'TrapMusic dnb', 'edm dance']\n",
            "[]\n"
          ],
          "name": "stdout"
        },
        {
          "output_type": "stream",
          "text": [
            "/usr/local/lib/python3.6/dist-packages/gensim/models/phrases.py:598: UserWarning: For a faster implementation, use the gensim.models.phrases.Phraser class\n",
            "  warnings.warn(\"For a faster implementation, use the gensim.models.phrases.Phraser class\")\n"
          ],
          "name": "stderr"
        }
      ]
    },
    {
      "cell_type": "code",
      "metadata": {
        "id": "iZy3bGe1xY8n",
        "colab_type": "code",
        "outputId": "75d52af6-f608-4d33-f871-8fa429a7584b",
        "colab": {
          "base_uri": "https://localhost:8080/",
          "height": 52
        }
      },
      "source": [
        "texts = [bigram[line] for line in texts]"
      ],
      "execution_count": 0,
      "outputs": [
        {
          "output_type": "stream",
          "text": [
            "/usr/local/lib/python3.6/dist-packages/gensim/models/phrases.py:598: UserWarning: For a faster implementation, use the gensim.models.phrases.Phraser class\n",
            "  warnings.warn(\"For a faster implementation, use the gensim.models.phrases.Phraser class\")\n"
          ],
          "name": "stderr"
        }
      ]
    },
    {
      "cell_type": "code",
      "metadata": {
        "id": "kQDSeTXMy6NS",
        "colab_type": "code",
        "colab": {}
      },
      "source": [
        "from nltk import ngrams"
      ],
      "execution_count": 0,
      "outputs": []
    },
    {
      "cell_type": "code",
      "metadata": {
        "id": "qYPtfdws0hqB",
        "colab_type": "code",
        "colab": {}
      },
      "source": [
        "from itertools import chain\n",
        "def flatten(listOfLists):\n",
        "    \"Flatten one level of nesting\"\n",
        "    return chain.from_iterable(listOfLists)"
      ],
      "execution_count": 0,
      "outputs": []
    },
    {
      "cell_type": "code",
      "metadata": {
        "id": "8w8E4Yh20hz7",
        "colab_type": "code",
        "colab": {}
      },
      "source": [
        "words = list(flatten(texts))"
      ],
      "execution_count": 0,
      "outputs": []
    },
    {
      "cell_type": "code",
      "metadata": {
        "id": "ztUlvcZ80LGt",
        "colab_type": "code",
        "colab": {}
      },
      "source": [
        "bigram=list(ngrams(words,2))\n",
        "trigram=list(ngrams(words,3))\n",
        "fourgram=list(ngrams(words,4))"
      ],
      "execution_count": 0,
      "outputs": []
    },
    {
      "cell_type": "code",
      "metadata": {
        "id": "YSlU1pLm0Lpa",
        "colab_type": "code",
        "outputId": "be47cf6e-8280-4f10-d435-92f4e18c4489",
        "colab": {
          "base_uri": "https://localhost:8080/",
          "height": 33
        }
      },
      "source": [
        "print(\"Total pairs generated are:\",len(bigram+trigram+fourgram))"
      ],
      "execution_count": 0,
      "outputs": [
        {
          "output_type": "stream",
          "text": [
            "Total pairs generated are: 2793\n"
          ],
          "name": "stdout"
        }
      ]
    },
    {
      "cell_type": "code",
      "metadata": {
        "id": "T5VhOKlf0Lmb",
        "colab_type": "code",
        "outputId": "05a70f2c-9ea6-48e9-faa4-2ef4e2bf0323",
        "colab": {
          "base_uri": "https://localhost:8080/",
          "height": 200
        }
      },
      "source": [
        "!wget \"https://s3.amazonaws.com/dl4j-distribution/GoogleNews-vectors-negative300.bin.gz\""
      ],
      "execution_count": 0,
      "outputs": [
        {
          "output_type": "stream",
          "text": [
            "--2020-05-20 09:07:28--  https://s3.amazonaws.com/dl4j-distribution/GoogleNews-vectors-negative300.bin.gz\n",
            "Resolving s3.amazonaws.com (s3.amazonaws.com)... 52.216.236.245\n",
            "Connecting to s3.amazonaws.com (s3.amazonaws.com)|52.216.236.245|:443... connected.\n",
            "HTTP request sent, awaiting response... 200 OK\n",
            "Length: 1647046227 (1.5G) [application/x-gzip]\n",
            "Saving to: ‘GoogleNews-vectors-negative300.bin.gz’\n",
            "\n",
            "GoogleNews-vectors- 100%[===================>]   1.53G  34.7MB/s    in 47s     \n",
            "\n",
            "2020-05-20 09:08:15 (33.7 MB/s) - ‘GoogleNews-vectors-negative300.bin.gz’ saved [1647046227/1647046227]\n",
            "\n"
          ],
          "name": "stdout"
        }
      ]
    },
    {
      "cell_type": "code",
      "metadata": {
        "id": "kuXT6cey0LhA",
        "colab_type": "code",
        "outputId": "b705e4ac-62de-4223-b91d-527aeb0e1d6c",
        "colab": {
          "base_uri": "https://localhost:8080/",
          "height": 70
        }
      },
      "source": [
        "import gensim.models.keyedvectors as word2vec\n",
        "model=word2vec.KeyedVectors.load_word2vec_format('GoogleNews-vectors-negative300.bin.gz', binary=True)"
      ],
      "execution_count": 0,
      "outputs": [
        {
          "output_type": "stream",
          "text": [
            "/usr/local/lib/python3.6/dist-packages/smart_open/smart_open_lib.py:253: UserWarning: This function is deprecated, use smart_open.open instead. See the migration notes for details: https://github.com/RaRe-Technologies/smart_open/blob/master/README.rst#migrating-to-the-new-open-function\n",
            "  'See the migration notes for details: %s' % _MIGRATION_NOTES_URL\n"
          ],
          "name": "stderr"
        }
      ]
    },
    {
      "cell_type": "code",
      "metadata": {
        "id": "mN7d6LRP2keF",
        "colab_type": "code",
        "outputId": "a9deebf3-23e1-45f1-d021-bf5ab749b6bc",
        "colab": {
          "base_uri": "https://localhost:8080/",
          "height": 50
        }
      },
      "source": [
        "index2word=model.wv.index2word"
      ],
      "execution_count": 0,
      "outputs": [
        {
          "output_type": "stream",
          "text": [
            "/usr/local/lib/python3.6/dist-packages/ipykernel_launcher.py:1: DeprecationWarning: Call to deprecated `wv` (Attribute will be removed in 4.0.0, use self instead).\n",
            "  \"\"\"Entry point for launching an IPython kernel.\n"
          ],
          "name": "stderr"
        }
      ]
    },
    {
      "cell_type": "code",
      "metadata": {
        "id": "uSTnlY_I17EI",
        "colab_type": "code",
        "outputId": "72f74774-031c-47bb-bc8d-b4e8bc68e49e",
        "colab": {
          "base_uri": "https://localhost:8080/",
          "height": 799
        }
      },
      "source": [
        "print(\"Bigrams:\")\n",
        "[word for word in index2word for x in bigram if word.lower()==x[0]+\"_\"+x[1]]"
      ],
      "execution_count": 0,
      "outputs": [
        {
          "output_type": "stream",
          "text": [
            "Bigrams:\n"
          ],
          "name": "stdout"
        },
        {
          "output_type": "execute_result",
          "data": {
            "text/plain": [
              "['en_route',\n",
              " 'motor_vehicle',\n",
              " 'heavy_rain',\n",
              " 'roller_coaster',\n",
              " 'Heavy_rain',\n",
              " 'flash_flooding',\n",
              " 'Range_Rover',\n",
              " 'Motor_Vehicle',\n",
              " 'bargain_basement',\n",
              " 'En_route',\n",
              " 'Heavy_Rain',\n",
              " 'Car_Crash',\n",
              " 'Heavy_Metal',\n",
              " 'Roller_Coaster',\n",
              " 'En_Route',\n",
              " 'Roller_coaster',\n",
              " 'clay_pigeon',\n",
              " 'Vehicle_Accident',\n",
              " 'PROPERTY_DAMAGE',\n",
              " 'HEAVY_RAIN',\n",
              " 'MOTOR_VEHICLE',\n",
              " 'FLASH_FLOODING',\n",
              " 'HEAVY_rain',\n",
              " 'CAR_CRASH',\n",
              " 'Bargain_Basement',\n",
              " 'Motorcycle_Rider',\n",
              " 'SCHOOL_BUS',\n",
              " 'Evacuation_Order',\n",
              " 'Emergency_Evacuation',\n",
              " 'HEAVY_METAL',\n",
              " 'Clay_Pigeon',\n",
              " 'Bicycle_Accident',\n",
              " 'HEAT_WAVE',\n",
              " 'Help_Determine',\n",
              " 'TAKE_CARE',\n",
              " 'ROLLER_COASTER',\n",
              " 'HEAD_OFFICE',\n",
              " 'EN_ROUTE',\n",
              " 'ROAD_ACCIDENT',\n",
              " 'VEHICLE_ACCIDENT',\n",
              " 'PEOPLE_DIE',\n",
              " 'RANGE_ROVER',\n",
              " 'COME_FORWARD']"
            ]
          },
          "metadata": {
            "tags": []
          },
          "execution_count": 94
        }
      ]
    },
    {
      "cell_type": "code",
      "metadata": {
        "id": "h5KIyIZ26RXq",
        "colab_type": "code",
        "outputId": "ed0f4f85-fd2a-40db-d9da-1588b920c94b",
        "colab": {
          "base_uri": "https://localhost:8080/",
          "height": 100
        }
      },
      "source": [
        "print(\"trigrams:\")\n",
        "[word for word in index2word for x in trigram if word.lower()==x[0]+\"_\"+x[1]+ \"_\" + x[2]]"
      ],
      "execution_count": 0,
      "outputs": [
        {
          "output_type": "stream",
          "text": [
            "trigrams:\n"
          ],
          "name": "stdout"
        },
        {
          "output_type": "execute_result",
          "data": {
            "text/plain": [
              "['clay_pigeon_shooting',\n",
              " 'Motor_Vehicle_Accident',\n",
              " 'CAUSE_FLASH_FLOODING',\n",
              " 'MOTOR_VEHICLE_ACCIDENT']"
            ]
          },
          "metadata": {
            "tags": []
          },
          "execution_count": 30
        }
      ]
    },
    {
      "cell_type": "code",
      "metadata": {
        "id": "hIlcR1Tf2Yo2",
        "colab_type": "code",
        "colab": {}
      },
      "source": [
        ""
      ],
      "execution_count": 0,
      "outputs": []
    }
  ]
}